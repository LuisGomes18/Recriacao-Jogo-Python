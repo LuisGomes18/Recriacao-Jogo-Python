{
  "nbformat": 4,
  "nbformat_minor": 0,
  "metadata": {
    "colab": {
      "provenance": []
    },
    "kernelspec": {
      "name": "python3",
      "display_name": "Python 3"
    },
    "language_info": {
      "name": "python"
    }
  },
  "cells": [
    {
      "cell_type": "code",
      "execution_count": null,
      "metadata": {
        "colab": {
          "base_uri": "https://localhost:8080/"
        },
        "id": "mDv2-MaHHfIJ",
        "outputId": "b7c854e5-d73a-4192-a161-ac4b7869d199"
      },
      "outputs": [
        {
          "output_type": "stream",
          "name": "stdout",
          "text": [
            "10\n"
          ]
        }
      ],
      "source": [
        "def minha_funcao():\n",
        "    variavel_local = 10\n",
        "    return variavel_local\n",
        "\n",
        "resultado = minha_funcao()  # Chama a função e atribui o valor retornado a 'resultado'\n",
        "print(resultado)  # Imprime o valor retornado da função\n"
      ]
    },
    {
      "cell_type": "code",
      "source": [],
      "metadata": {
        "id": "qBL3hHxuYvLq"
      },
      "execution_count": null,
      "outputs": []
    },
    {
      "cell_type": "code",
      "source": [
        "def minha_funcao_2(valor_2):\n",
        "    resultado_2 = valor_2 * 2\n",
        "    return resultado_2\n",
        "\n",
        "variavel_global_2 = 5\n",
        "resultado_2 = minha_funcao_2(variavel_global_2)  # Chama a função com a variável global como argumento\n",
        "print(resultado_2)  # Imprime o resultado retornado da função\n"
      ],
      "metadata": {
        "colab": {
          "base_uri": "https://localhost:8080/"
        },
        "id": "LIbNz8vMh35p",
        "outputId": "f3a4f991-be8b-4f82-ea3b-b22dc8e9ee7c"
      },
      "execution_count": null,
      "outputs": [
        {
          "output_type": "stream",
          "name": "stdout",
          "text": [
            "10\n"
          ]
        }
      ]
    },
    {
      "cell_type": "code",
      "source": [
        "import json\n",
        "\n",
        "# Define a variável var_1\n",
        "var_1 = 10\n",
        "\n",
        "# Caminho do arquivo JSON\n",
        "caminho_arquivo = 'arquivo.json'\n",
        "\n",
        "# Lê o conteúdo do arquivo JSON, se existir\n",
        "try:\n",
        "    with open(caminho_arquivo, 'r') as arquivo:\n",
        "        conteudo_json = json.load(arquivo)\n",
        "except FileNotFoundError:\n",
        "    conteudo_json = {}\n",
        "\n",
        "# Atualiza ou adiciona a variável var_1 no conteúdo JSON\n",
        "conteudo_json['var_1'] = var_1\n",
        "\n",
        "# Escreve o conteúdo JSON atualizado no arquivo\n",
        "with open(caminho_arquivo, 'w') as arquivo:\n",
        "    json.dump(conteudo_json, arquivo, indent=4)\n",
        "\n",
        "print(f\"A variável var_1 ({var_1}) foi salva no arquivo {caminho_arquivo}.\")\n"
      ],
      "metadata": {
        "colab": {
          "base_uri": "https://localhost:8080/"
        },
        "id": "ecqcM6uPjHzG",
        "outputId": "13ff778c-09ab-419d-ea7f-ad4317413fdf"
      },
      "execution_count": null,
      "outputs": [
        {
          "output_type": "stream",
          "name": "stdout",
          "text": [
            "A variável var_1 (10) foi salva no arquivo arquivo.json.\n"
          ]
        }
      ]
    },
    {
      "cell_type": "code",
      "source": [
        "numero = 0 #@param {type:\"number\"}\n"
      ],
      "metadata": {
        "id": "ACHu6W-Pj4OG"
      },
      "execution_count": null,
      "outputs": []
    },
    {
      "cell_type": "code",
      "source": [
        "var = true\n",
        "print(type(var))\n",
        "print(var)"
      ],
      "metadata": {
        "colab": {
          "base_uri": "https://localhost:8080/",
          "height": 219
        },
        "id": "nuaVxfF5VAWg",
        "outputId": "291a87e6-0838-4724-a6df-f686a7d00511"
      },
      "execution_count": null,
      "outputs": [
        {
          "output_type": "error",
          "ename": "NameError",
          "evalue": "ignored",
          "traceback": [
            "\u001b[0;31m---------------------------------------------------------------------------\u001b[0m",
            "\u001b[0;31mNameError\u001b[0m                                 Traceback (most recent call last)",
            "\u001b[0;32m<ipython-input-1-57cd64051c0b>\u001b[0m in \u001b[0;36m<cell line: 1>\u001b[0;34m()\u001b[0m\n\u001b[0;32m----> 1\u001b[0;31m \u001b[0mvar\u001b[0m \u001b[0;34m=\u001b[0m \u001b[0mtrue\u001b[0m\u001b[0;34m\u001b[0m\u001b[0;34m\u001b[0m\u001b[0m\n\u001b[0m\u001b[1;32m      2\u001b[0m \u001b[0mprint\u001b[0m\u001b[0;34m(\u001b[0m\u001b[0mtype\u001b[0m\u001b[0;34m(\u001b[0m\u001b[0mvar\u001b[0m\u001b[0;34m)\u001b[0m\u001b[0;34m)\u001b[0m\u001b[0;34m\u001b[0m\u001b[0;34m\u001b[0m\u001b[0m\n\u001b[1;32m      3\u001b[0m \u001b[0mprint\u001b[0m\u001b[0;34m(\u001b[0m\u001b[0mvar\u001b[0m\u001b[0;34m)\u001b[0m\u001b[0;34m\u001b[0m\u001b[0;34m\u001b[0m\u001b[0m\n",
            "\u001b[0;31mNameError\u001b[0m: name 'true' is not defined"
          ]
        }
      ]
    },
    {
      "cell_type": "code",
      "source": [
        "json = {\n",
        "    \"var\": True, #fica string\n",
        "    \"var1\": \"true\" #fica bool\n",
        "}\n",
        "print(json)\n",
        "\n",
        "var = json[\"var\"]\n",
        "var1 = json[\"var1\"]\n",
        "\n",
        "var = str(var).lower()\n",
        "\n",
        "var1 = var1.capitalize()\n",
        "var1 = bool(var1)\n",
        "\n",
        "\n",
        "json[\"var\"] = var\n",
        "json[\"var1\"] = var1\n",
        "print(f'\\n{json}')"
      ],
      "metadata": {
        "colab": {
          "base_uri": "https://localhost:8080/"
        },
        "id": "L9eZvCZth3Hq",
        "outputId": "90a16a9b-c0be-4724-e024-b46232a12c5f"
      },
      "execution_count": null,
      "outputs": [
        {
          "output_type": "stream",
          "name": "stdout",
          "text": [
            "{'var': True, 'var1': 'true'}\n",
            "\n",
            "{'var': 'true', 'var1': True}\n"
          ]
        }
      ]
    },
    {
      "cell_type": "code",
      "source": [
        "from random import randint\n",
        "felicidade = int(8)\n",
        "\n",
        "#atividades = int(input('''1) Artes\n",
        "#2) Medicina\n",
        "#3) Musica\n",
        "#4) Desporto\n",
        "#--> '''))\n",
        "atividades = 1\n",
        "\n",
        "artes = randint(3, 9)\n",
        "medicina = randint(3, 9)\n",
        "musica = randint(3, 9)\n",
        "desporto = randint(3, 9)\n",
        "print('''\n",
        "Artes: {}\n",
        "Medicina: {}\n",
        "Musica: {}\n",
        "Desporto: {}\n",
        "'''.format(artes, medicina, musica, desporto))\n",
        "\n",
        "if atividades == 1:\n",
        "  felicidade += int(artes / 2)\n",
        "elif atividades == 2:\n",
        "  felicidade += int(medicina / 2)\n",
        "elif atividades == 3:\n",
        "  felicidade += int(musica / 2)\n",
        "elif atividades == 4:\n",
        "  felicidade += int(desporto / 2)\n",
        "print(f'\\nFelicidade: {felicidade}')\n"
      ],
      "metadata": {
        "colab": {
          "base_uri": "https://localhost:8080/"
        },
        "id": "XwNKMyiIYzUQ",
        "outputId": "09ed7e95-6c28-444f-8453-7b266458b2a1"
      },
      "execution_count": null,
      "outputs": [
        {
          "output_type": "stream",
          "name": "stdout",
          "text": [
            "\n",
            "Artes: 7\n",
            "Medicina: 5\n",
            "Musica: 9\n",
            "Desporto: 5\n",
            "\n",
            "\n",
            "Felicidade: 11\n"
          ]
        }
      ]
    },
    {
      "cell_type": "code",
      "source": [
        "from random import randint\n",
        "\n",
        "'''\n",
        "felicidade_atual = 8\n",
        "fumar = randint(3, 5)\n",
        "print(fumar)\n",
        "felicidade_atual -= int(fumar / 2)\n",
        "print(felicidade_atual)\n",
        "'''"
      ],
      "metadata": {
        "colab": {
          "base_uri": "https://localhost:8080/"
        },
        "id": "rmXBLmLqsoQZ",
        "outputId": "21c9570c-f0c8-45dc-8a43-624b0bc72fd4"
      },
      "execution_count": 25,
      "outputs": [
        {
          "output_type": "stream",
          "name": "stdout",
          "text": [
            "4\n",
            "6\n"
          ]
        }
      ]
    }
  ]
}