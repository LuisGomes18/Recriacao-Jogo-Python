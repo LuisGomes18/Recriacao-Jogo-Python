{
  "nbformat": 4,
  "nbformat_minor": 0,
  "metadata": {
    "colab": {
      "provenance": [],
      "authorship_tag": "ABX9TyNRA/51/yuRd5pudyeykull",
      "include_colab_link": true
    },
    "kernelspec": {
      "name": "python3",
      "display_name": "Python 3"
    },
    "language_info": {
      "name": "python"
    }
  },
  "cells": [
    {
      "cell_type": "markdown",
      "metadata": {
        "id": "view-in-github",
        "colab_type": "text"
      },
      "source": [
        "<a href=\"https://colab.research.google.com/github/LuisGomes18/Recriacao-Jogo-Python/blob/Disco_Local/Recria%C3%A7%C3%A3o_Jogo_Python_(testes).ipynb\" target=\"_parent\"><img src=\"https://colab.research.google.com/assets/colab-badge.svg\" alt=\"Open In Colab\"/></a>"
      ]
    },
    {
      "cell_type": "code",
      "execution_count": 2,
      "metadata": {
        "colab": {
          "base_uri": "https://localhost:8080/"
        },
        "id": "mDv2-MaHHfIJ",
        "outputId": "b12131bb-1318-4639-ff5b-ba384c3bb524"
      },
      "outputs": [
        {
          "output_type": "stream",
          "name": "stdout",
          "text": [
            "HACKSSSSS\n"
          ]
        }
      ],
      "source": [
        "hacks = 1\n",
        "if hacks == 1:\n",
        "  print('HACKSSSSS')"
      ]
    }
  ]
}